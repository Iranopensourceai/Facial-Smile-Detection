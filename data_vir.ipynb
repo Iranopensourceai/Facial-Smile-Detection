{
 "cells": [
  {
   "cell_type": "code",
   "execution_count": 7,
   "id": "38fb2f83",
   "metadata": {},
   "outputs": [],
   "source": [
    "import os\n",
    "import random\n",
    "import matplotlib.pyplot as plt\n",
    "import matplotlib.image as mpimg"
   ]
  },
  {
   "cell_type": "code",
   "execution_count": 8,
   "id": "c7a22757",
   "metadata": {
    "scrolled": false
   },
   "outputs": [],
   "source": [
    "\n",
    "def data_vir(path ,columns:int=4 ,rows:int=6 ,width_hight=(12,12)) -> None:\n",
    "    \"\"\"\n",
    "    path : path ur folder without  <  /  > in end of it  -----> example : E:computervision/image\n",
    "    columns and rows : You can choice how many pic show u\n",
    "    width_hight : show picture with your Favorite size\n",
    "    #########################################################################\n",
    "    *** is better for width_hight int bigger than 8,8 ***\n",
    "    \n",
    "    \"\"\"\n",
    "    # choice random pic to list\n",
    "    list_dir = os.listdir(path)\n",
    "    rand_choice = random.choices(list_dir , k=columns*rows)\n",
    "    \n",
    "    # ax enables access to manipulate each of subplots\n",
    "    ax = []\n",
    "    \n",
    "    fig = plt.figure(figsize = width_hight)  # width_hight is tople\n",
    "    \n",
    "    for i,img_name in enumerate(rand_choice):\n",
    "        \n",
    "        img = mpimg.imread(path + \"/\" + img_name) \n",
    "        ax.append(fig.add_subplot(rows, columns, i+1) )\n",
    "        ax[-1].set_title(img_name)  # set title\n",
    "        ax[-1].yaxis.set_visible(False) \n",
    "        ax[-1].xaxis.set_visible(False)\n",
    "        plt.imshow(img)\n",
    "\n",
    "    plt.show()  # finally, render the plot\n",
    "    \n",
    "\n",
    "    \n",
    "# test   \n",
    "# path  = \"smaple\"\n",
    "# data_vir(path ,width_hight=(5,5))\n",
    "# data_vir(path ,4,4,(8,8))"
   ]
  }
 ],
 "metadata": {
  "kernelspec": {
   "display_name": "Python 3 (ipykernel)",
   "language": "python",
   "name": "python3"
  },
  "language_info": {
   "codemirror_mode": {
    "name": "ipython",
    "version": 3
   },
   "file_extension": ".py",
   "mimetype": "text/x-python",
   "name": "python",
   "nbconvert_exporter": "python",
   "pygments_lexer": "ipython3",
   "version": "3.10.1"
  }
 },
 "nbformat": 4,
 "nbformat_minor": 5
}
