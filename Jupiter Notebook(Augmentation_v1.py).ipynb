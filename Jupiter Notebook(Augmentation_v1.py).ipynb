{
 "cells": [
  {
   "cell_type": "code",
   "execution_count": 1,
   "id": "4ff91f2c",
   "metadata": {},
   "outputs": [],
   "source": [
    "import numpy as np\n",
    "import os\n",
    "import argparse\n",
    "import cv2\n",
    "from imutils import paths\n",
    "import matplotlib.pyplot as plt\n",
    "import tensorflow as tf\n",
    "from tensorflow.keras.preprocessing.image import img_to_array\n",
    "from tensorflow.keras.models import Sequential\n",
    "from tensorflow.keras.layers import Layer,Conv2D,Activation,MaxPool2D,Dense,Flatten,Dropout\n",
    "from tensorflow.keras.optimizers import SGD\n",
    "from sklearn.model_selection import train_test_split\n",
    "from sklearn.metrics import confusion_matrix\n",
    "from tensorflow.keras.layers.experimental import preprocessing\n",
    "from tensorflow import keras\n",
    "from imutils import paths\n",
    "import cv2\n",
    "import os\n",
    "from sklearn.model_selection import train_test_split\n",
    "from config_file import *"
   ]
  },
  {
   "cell_type": "code",
   "execution_count": 10,
   "id": "c2afb485",
   "metadata": {},
   "outputs": [],
   "source": [
    "def train_val_test_split(dataset_path, seed=432):\n",
    "    dataset_path = \"r'C:\\\\Users\\\\Paria\\\\Facial-Smile-Detection-main\\\\First DataSet\"\n",
    "    \"\"\"\n",
    "    Splits images paths in the dataset to train, validation and test \n",
    "    dataset_path: the path of dataset\n",
    "    seed: the seed required to random shuffle files\n",
    "    \"\"\"\n",
    "    imgpaths = list(paths.list_images(dataset_path))\n",
    "    train_val_path, test_path = train_test_split(imgpaths, test_size=0.1, random_state=seed, shuffle=True)\n",
    "    train_path, validation_path = train_test_split(train_val_path, test_size=0.2)\n",
    "    return train_path, validation_path, test_path"
   ]
  },
  {
   "cell_type": "code",
   "execution_count": 13,
   "id": "b012d939",
   "metadata": {},
   "outputs": [],
   "source": [
    "def dataextractor(image_paths,height=32,width=32):\n",
    "    data=[]\n",
    "    labels = []\n",
    "#     imagepaths = list(paths.list_images(data_path))\n",
    "    for imagepath in image_paths:\n",
    "        image = cv2.imread(imagepath)\n",
    "        image = cv2.cvtColor(image, cv2.COLOR_BGR2GRAY)\n",
    "        image = cv2.resize(image,(height, width),interpolation=cv2.INTER_AREA)\n",
    "        image = img_to_array(image)\n",
    "        label = imagepath.split(os.sep)[-2]\n",
    "        label = int(label)\n",
    "        labels.append(label)\n",
    "        data.append(image)\n",
    "    return np.array(data, dtype='float') / 255.0, np.array(labels)\n",
    "    # splitting the data into train and test\n",
    "\n",
    "# (train_X,test_X,train_y,test_y) = train_test_split(data,labels,test_size=0.2,random_state=123)\n"
   ]
  },
  {
   "cell_type": "code",
   "execution_count": 14,
   "id": "6e438439",
   "metadata": {},
   "outputs": [],
   "source": [
    "def augmentation(img, training=True):\n",
    "    return keras.Sequential([\n",
    "    preprocessing.RandomContrast(factor=0.5),\n",
    "    preprocessing.RandomFlip(mode='horizontal'), # meaning, left-to-right\n",
    "    preprocessing.RandomFlip(mode='vertical'), # meaning, top-to-bottom\n",
    "    preprocessing.RandomWidth(factor=0.15), # horizontal stretch\n",
    "    preprocessing.RandomRotation(factor=0.20),\n",
    "    preprocessing.RandomTranslation(height_factor=0.1, width_factor=0.1)])(img, training)"
   ]
  },
  {
   "cell_type": "code",
   "execution_count": 16,
   "id": "9d01de95",
   "metadata": {},
   "outputs": [],
   "source": [
    "if __name__ == \"main\":\n",
    "    train_path, val_path, test_path = train_val_test_split(dataset_path)\n",
    "\n",
    "    train_X, train_y =dataextractor(train_path)\n",
    "    val_X, val_y = dataextractor(val_path)\n",
    "    test_X, test_y = dataextractor(test_path)\n",
    "\n",
    "    ex = train_X[100]\n",
    "\n",
    "    plt.figure(figsize=(10,10))\n",
    "    for i in range(16):\n",
    "        image = augmentation(ex)\n",
    "  #     image = cv2.cvtColor(image, cv2.COLOR_BGR2GRAY)\n",
    "  #     image = img_to_array(image)\n",
    "        plt.subplot(4, 4, i+1)\n",
    "        plt.imshow(tf.squeeze(image) )\n",
    "        plt.axis('off')\n",
    "    plt.show()"
   ]
  }
 ],
 "metadata": {
  "kernelspec": {
   "display_name": "Python 3 (ipykernel)",
   "language": "python",
   "name": "python3"
  },
  "language_info": {
   "codemirror_mode": {
    "name": "ipython",
    "version": 3
   },
   "file_extension": ".py",
   "mimetype": "text/x-python",
   "name": "python",
   "nbconvert_exporter": "python",
   "pygments_lexer": "ipython3",
   "version": "3.9.13"
  }
 },
 "nbformat": 4,
 "nbformat_minor": 5
}
